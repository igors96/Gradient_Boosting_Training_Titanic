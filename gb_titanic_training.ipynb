{
  "metadata": {
    "kernelspec": {
      "language": "python",
      "display_name": "Python 3",
      "name": "python3"
    },
    "language_info": {
      "pygments_lexer": "ipython3",
      "nbconvert_exporter": "python",
      "version": "3.6.4",
      "file_extension": ".py",
      "codemirror_mode": {
        "name": "ipython",
        "version": 3
      },
      "name": "python",
      "mimetype": "text/x-python"
    },
    "colab": {
      "provenance": [],
      "include_colab_link": true
    }
  },
  "nbformat_minor": 0,
  "nbformat": 4,
  "cells": [
    {
      "cell_type": "markdown",
      "metadata": {
        "id": "view-in-github",
        "colab_type": "text"
      },
      "source": [
        "<a href=\"https://colab.research.google.com/github/igors96/Gradient_Boosting_Training_Titanic/blob/main/gb_titanic_training.ipynb\" target=\"_parent\"><img src=\"https://colab.research.google.com/assets/colab-badge.svg\" alt=\"Open In Colab\"/></a>"
      ]
    },
    {
      "cell_type": "code",
      "source": [
        "import pandas as pd\n",
        "pd.set_option('display.max_columns', 21)\n",
        "arquivo = pd.read_csv('/content/train.csv')"
      ],
      "metadata": {
        "execution": {
          "iopub.status.busy": "2022-10-20T20:24:03.375647Z",
          "iopub.execute_input": "2022-10-20T20:24:03.376063Z",
          "iopub.status.idle": "2022-10-20T20:24:03.433276Z",
          "shell.execute_reply.started": "2022-10-20T20:24:03.375966Z",
          "shell.execute_reply": "2022-10-20T20:24:03.432449Z"
        },
        "trusted": true,
        "id": "wxJZIey9f_Lr"
      },
      "execution_count": 1,
      "outputs": []
    },
    {
      "cell_type": "code",
      "source": [
        "arquivo.head()"
      ],
      "metadata": {
        "execution": {
          "iopub.status.busy": "2022-10-20T20:24:03.434997Z",
          "iopub.execute_input": "2022-10-20T20:24:03.435862Z",
          "iopub.status.idle": "2022-10-20T20:24:03.463901Z",
          "shell.execute_reply.started": "2022-10-20T20:24:03.435823Z",
          "shell.execute_reply": "2022-10-20T20:24:03.462757Z"
        },
        "trusted": true,
        "colab": {
          "base_uri": "https://localhost:8080/",
          "height": 302
        },
        "id": "gq2kENlRf_L0",
        "outputId": "e4517bf0-1653-466e-b55d-8e5e0df2cc5e"
      },
      "execution_count": 2,
      "outputs": [
        {
          "output_type": "execute_result",
          "data": {
            "text/plain": [
              "   PassengerId  Survived  Pclass  \\\n",
              "0            1         0       3   \n",
              "1            2         1       1   \n",
              "2            3         1       3   \n",
              "3            4         1       1   \n",
              "4            5         0       3   \n",
              "\n",
              "                                                Name     Sex   Age  SibSp  \\\n",
              "0                            Braund, Mr. Owen Harris    male  22.0      1   \n",
              "1  Cumings, Mrs. John Bradley (Florence Briggs Th...  female  38.0      1   \n",
              "2                             Heikkinen, Miss. Laina  female  26.0      0   \n",
              "3       Futrelle, Mrs. Jacques Heath (Lily May Peel)  female  35.0      1   \n",
              "4                           Allen, Mr. William Henry    male  35.0      0   \n",
              "\n",
              "   Parch            Ticket     Fare Cabin Embarked  \n",
              "0      0         A/5 21171   7.2500   NaN        S  \n",
              "1      0          PC 17599  71.2833   C85        C  \n",
              "2      0  STON/O2. 3101282   7.9250   NaN        S  \n",
              "3      0            113803  53.1000  C123        S  \n",
              "4      0            373450   8.0500   NaN        S  "
            ],
            "text/html": [
              "\n",
              "  <div id=\"df-00202de3-b69e-494c-9dde-78baea60edcf\">\n",
              "    <div class=\"colab-df-container\">\n",
              "      <div>\n",
              "<style scoped>\n",
              "    .dataframe tbody tr th:only-of-type {\n",
              "        vertical-align: middle;\n",
              "    }\n",
              "\n",
              "    .dataframe tbody tr th {\n",
              "        vertical-align: top;\n",
              "    }\n",
              "\n",
              "    .dataframe thead th {\n",
              "        text-align: right;\n",
              "    }\n",
              "</style>\n",
              "<table border=\"1\" class=\"dataframe\">\n",
              "  <thead>\n",
              "    <tr style=\"text-align: right;\">\n",
              "      <th></th>\n",
              "      <th>PassengerId</th>\n",
              "      <th>Survived</th>\n",
              "      <th>Pclass</th>\n",
              "      <th>Name</th>\n",
              "      <th>Sex</th>\n",
              "      <th>Age</th>\n",
              "      <th>SibSp</th>\n",
              "      <th>Parch</th>\n",
              "      <th>Ticket</th>\n",
              "      <th>Fare</th>\n",
              "      <th>Cabin</th>\n",
              "      <th>Embarked</th>\n",
              "    </tr>\n",
              "  </thead>\n",
              "  <tbody>\n",
              "    <tr>\n",
              "      <th>0</th>\n",
              "      <td>1</td>\n",
              "      <td>0</td>\n",
              "      <td>3</td>\n",
              "      <td>Braund, Mr. Owen Harris</td>\n",
              "      <td>male</td>\n",
              "      <td>22.0</td>\n",
              "      <td>1</td>\n",
              "      <td>0</td>\n",
              "      <td>A/5 21171</td>\n",
              "      <td>7.2500</td>\n",
              "      <td>NaN</td>\n",
              "      <td>S</td>\n",
              "    </tr>\n",
              "    <tr>\n",
              "      <th>1</th>\n",
              "      <td>2</td>\n",
              "      <td>1</td>\n",
              "      <td>1</td>\n",
              "      <td>Cumings, Mrs. John Bradley (Florence Briggs Th...</td>\n",
              "      <td>female</td>\n",
              "      <td>38.0</td>\n",
              "      <td>1</td>\n",
              "      <td>0</td>\n",
              "      <td>PC 17599</td>\n",
              "      <td>71.2833</td>\n",
              "      <td>C85</td>\n",
              "      <td>C</td>\n",
              "    </tr>\n",
              "    <tr>\n",
              "      <th>2</th>\n",
              "      <td>3</td>\n",
              "      <td>1</td>\n",
              "      <td>3</td>\n",
              "      <td>Heikkinen, Miss. Laina</td>\n",
              "      <td>female</td>\n",
              "      <td>26.0</td>\n",
              "      <td>0</td>\n",
              "      <td>0</td>\n",
              "      <td>STON/O2. 3101282</td>\n",
              "      <td>7.9250</td>\n",
              "      <td>NaN</td>\n",
              "      <td>S</td>\n",
              "    </tr>\n",
              "    <tr>\n",
              "      <th>3</th>\n",
              "      <td>4</td>\n",
              "      <td>1</td>\n",
              "      <td>1</td>\n",
              "      <td>Futrelle, Mrs. Jacques Heath (Lily May Peel)</td>\n",
              "      <td>female</td>\n",
              "      <td>35.0</td>\n",
              "      <td>1</td>\n",
              "      <td>0</td>\n",
              "      <td>113803</td>\n",
              "      <td>53.1000</td>\n",
              "      <td>C123</td>\n",
              "      <td>S</td>\n",
              "    </tr>\n",
              "    <tr>\n",
              "      <th>4</th>\n",
              "      <td>5</td>\n",
              "      <td>0</td>\n",
              "      <td>3</td>\n",
              "      <td>Allen, Mr. William Henry</td>\n",
              "      <td>male</td>\n",
              "      <td>35.0</td>\n",
              "      <td>0</td>\n",
              "      <td>0</td>\n",
              "      <td>373450</td>\n",
              "      <td>8.0500</td>\n",
              "      <td>NaN</td>\n",
              "      <td>S</td>\n",
              "    </tr>\n",
              "  </tbody>\n",
              "</table>\n",
              "</div>\n",
              "      <button class=\"colab-df-convert\" onclick=\"convertToInteractive('df-00202de3-b69e-494c-9dde-78baea60edcf')\"\n",
              "              title=\"Convert this dataframe to an interactive table.\"\n",
              "              style=\"display:none;\">\n",
              "        \n",
              "  <svg xmlns=\"http://www.w3.org/2000/svg\" height=\"24px\"viewBox=\"0 0 24 24\"\n",
              "       width=\"24px\">\n",
              "    <path d=\"M0 0h24v24H0V0z\" fill=\"none\"/>\n",
              "    <path d=\"M18.56 5.44l.94 2.06.94-2.06 2.06-.94-2.06-.94-.94-2.06-.94 2.06-2.06.94zm-11 1L8.5 8.5l.94-2.06 2.06-.94-2.06-.94L8.5 2.5l-.94 2.06-2.06.94zm10 10l.94 2.06.94-2.06 2.06-.94-2.06-.94-.94-2.06-.94 2.06-2.06.94z\"/><path d=\"M17.41 7.96l-1.37-1.37c-.4-.4-.92-.59-1.43-.59-.52 0-1.04.2-1.43.59L10.3 9.45l-7.72 7.72c-.78.78-.78 2.05 0 2.83L4 21.41c.39.39.9.59 1.41.59.51 0 1.02-.2 1.41-.59l7.78-7.78 2.81-2.81c.8-.78.8-2.07 0-2.86zM5.41 20L4 18.59l7.72-7.72 1.47 1.35L5.41 20z\"/>\n",
              "  </svg>\n",
              "      </button>\n",
              "      \n",
              "  <style>\n",
              "    .colab-df-container {\n",
              "      display:flex;\n",
              "      flex-wrap:wrap;\n",
              "      gap: 12px;\n",
              "    }\n",
              "\n",
              "    .colab-df-convert {\n",
              "      background-color: #E8F0FE;\n",
              "      border: none;\n",
              "      border-radius: 50%;\n",
              "      cursor: pointer;\n",
              "      display: none;\n",
              "      fill: #1967D2;\n",
              "      height: 32px;\n",
              "      padding: 0 0 0 0;\n",
              "      width: 32px;\n",
              "    }\n",
              "\n",
              "    .colab-df-convert:hover {\n",
              "      background-color: #E2EBFA;\n",
              "      box-shadow: 0px 1px 2px rgba(60, 64, 67, 0.3), 0px 1px 3px 1px rgba(60, 64, 67, 0.15);\n",
              "      fill: #174EA6;\n",
              "    }\n",
              "\n",
              "    [theme=dark] .colab-df-convert {\n",
              "      background-color: #3B4455;\n",
              "      fill: #D2E3FC;\n",
              "    }\n",
              "\n",
              "    [theme=dark] .colab-df-convert:hover {\n",
              "      background-color: #434B5C;\n",
              "      box-shadow: 0px 1px 3px 1px rgba(0, 0, 0, 0.15);\n",
              "      filter: drop-shadow(0px 1px 2px rgba(0, 0, 0, 0.3));\n",
              "      fill: #FFFFFF;\n",
              "    }\n",
              "  </style>\n",
              "\n",
              "      <script>\n",
              "        const buttonEl =\n",
              "          document.querySelector('#df-00202de3-b69e-494c-9dde-78baea60edcf button.colab-df-convert');\n",
              "        buttonEl.style.display =\n",
              "          google.colab.kernel.accessAllowed ? 'block' : 'none';\n",
              "\n",
              "        async function convertToInteractive(key) {\n",
              "          const element = document.querySelector('#df-00202de3-b69e-494c-9dde-78baea60edcf');\n",
              "          const dataTable =\n",
              "            await google.colab.kernel.invokeFunction('convertToInteractive',\n",
              "                                                     [key], {});\n",
              "          if (!dataTable) return;\n",
              "\n",
              "          const docLinkHtml = 'Like what you see? Visit the ' +\n",
              "            '<a target=\"_blank\" href=https://colab.research.google.com/notebooks/data_table.ipynb>data table notebook</a>'\n",
              "            + ' to learn more about interactive tables.';\n",
              "          element.innerHTML = '';\n",
              "          dataTable['output_type'] = 'display_data';\n",
              "          await google.colab.output.renderOutput(dataTable, element);\n",
              "          const docLink = document.createElement('div');\n",
              "          docLink.innerHTML = docLinkHtml;\n",
              "          element.appendChild(docLink);\n",
              "        }\n",
              "      </script>\n",
              "    </div>\n",
              "  </div>\n",
              "  "
            ]
          },
          "metadata": {},
          "execution_count": 2
        }
      ]
    },
    {
      "cell_type": "code",
      "source": [
        "arquivo.dtypes"
      ],
      "metadata": {
        "execution": {
          "iopub.status.busy": "2022-10-20T20:24:03.465392Z",
          "iopub.execute_input": "2022-10-20T20:24:03.465731Z",
          "iopub.status.idle": "2022-10-20T20:24:03.475858Z",
          "shell.execute_reply.started": "2022-10-20T20:24:03.465695Z",
          "shell.execute_reply": "2022-10-20T20:24:03.474537Z"
        },
        "trusted": true,
        "colab": {
          "base_uri": "https://localhost:8080/"
        },
        "id": "xTpj2MMgf_L1",
        "outputId": "8c4041a7-7859-4010-8d7f-8552dd64755a"
      },
      "execution_count": 3,
      "outputs": [
        {
          "output_type": "execute_result",
          "data": {
            "text/plain": [
              "PassengerId      int64\n",
              "Survived         int64\n",
              "Pclass           int64\n",
              "Name            object\n",
              "Sex             object\n",
              "Age            float64\n",
              "SibSp            int64\n",
              "Parch            int64\n",
              "Ticket          object\n",
              "Fare           float64\n",
              "Cabin           object\n",
              "Embarked        object\n",
              "dtype: object"
            ]
          },
          "metadata": {},
          "execution_count": 3
        }
      ]
    },
    {
      "cell_type": "code",
      "source": [
        "arquivo.drop(['Name', 'Ticket', 'PassengerId'], axis = 1, inplace = True)"
      ],
      "metadata": {
        "execution": {
          "iopub.status.busy": "2022-10-20T20:24:03.478025Z",
          "iopub.execute_input": "2022-10-20T20:24:03.478292Z",
          "iopub.status.idle": "2022-10-20T20:24:03.497519Z",
          "shell.execute_reply.started": "2022-10-20T20:24:03.478264Z",
          "shell.execute_reply": "2022-10-20T20:24:03.496816Z"
        },
        "trusted": true,
        "id": "l4daPBywf_L3"
      },
      "execution_count": 4,
      "outputs": []
    },
    {
      "cell_type": "code",
      "source": [
        "faltantes = arquivo.isnull().sum()\n",
        "faltantes_percentual = (faltantes/len(arquivo['Survived']))*100\n",
        "print(faltantes_percentual)"
      ],
      "metadata": {
        "execution": {
          "iopub.status.busy": "2022-10-20T20:24:03.499040Z",
          "iopub.execute_input": "2022-10-20T20:24:03.499487Z",
          "iopub.status.idle": "2022-10-20T20:24:03.515837Z",
          "shell.execute_reply.started": "2022-10-20T20:24:03.499456Z",
          "shell.execute_reply": "2022-10-20T20:24:03.515111Z"
        },
        "trusted": true,
        "colab": {
          "base_uri": "https://localhost:8080/"
        },
        "id": "x9JGJ29qf_L4",
        "outputId": "ac427373-f907-454a-97be-03ce73dc7d0b"
      },
      "execution_count": 5,
      "outputs": [
        {
          "output_type": "stream",
          "name": "stdout",
          "text": [
            "Survived     0.000000\n",
            "Pclass       0.000000\n",
            "Sex          0.000000\n",
            "Age         19.865320\n",
            "SibSp        0.000000\n",
            "Parch        0.000000\n",
            "Fare         0.000000\n",
            "Cabin       77.104377\n",
            "Embarked     0.224467\n",
            "dtype: float64\n"
          ]
        }
      ]
    },
    {
      "cell_type": "code",
      "source": [
        "arquivo.drop('Cabin', axis = 1, inplace = True)"
      ],
      "metadata": {
        "execution": {
          "iopub.status.busy": "2022-10-20T20:24:03.517160Z",
          "iopub.execute_input": "2022-10-20T20:24:03.518074Z",
          "iopub.status.idle": "2022-10-20T20:24:03.532403Z",
          "shell.execute_reply.started": "2022-10-20T20:24:03.518028Z",
          "shell.execute_reply": "2022-10-20T20:24:03.531251Z"
        },
        "trusted": true,
        "id": "X7CZTRUSf_L5"
      },
      "execution_count": 6,
      "outputs": []
    },
    {
      "cell_type": "code",
      "source": [
        "import numpy as np\n",
        "arquivo['Embarked'].replace(np.NaN, 'S', inplace = True)\n",
        "arquivo['Age'].fillna(arquivo['Age'].median(), inplace = True)"
      ],
      "metadata": {
        "execution": {
          "iopub.status.busy": "2022-10-20T20:24:03.533478Z",
          "iopub.execute_input": "2022-10-20T20:24:03.534195Z",
          "iopub.status.idle": "2022-10-20T20:24:03.544685Z",
          "shell.execute_reply.started": "2022-10-20T20:24:03.534157Z",
          "shell.execute_reply": "2022-10-20T20:24:03.543791Z"
        },
        "trusted": true,
        "id": "Jr1xWi8Hf_L6"
      },
      "execution_count": 7,
      "outputs": []
    },
    {
      "cell_type": "code",
      "source": [
        "faltantes = arquivo.isnull().sum()\n",
        "faltantes_percentual = (faltantes/len(arquivo['Survived']))*100\n",
        "print(faltantes_percentual)"
      ],
      "metadata": {
        "execution": {
          "iopub.status.busy": "2022-10-20T20:24:03.546514Z",
          "iopub.execute_input": "2022-10-20T20:24:03.547076Z",
          "iopub.status.idle": "2022-10-20T20:24:03.565987Z",
          "shell.execute_reply.started": "2022-10-20T20:24:03.547041Z",
          "shell.execute_reply": "2022-10-20T20:24:03.565102Z"
        },
        "trusted": true,
        "colab": {
          "base_uri": "https://localhost:8080/"
        },
        "id": "feGvJ-8mf_L8",
        "outputId": "80f6aa02-c328-4f01-fabe-65516e56f371"
      },
      "execution_count": 8,
      "outputs": [
        {
          "output_type": "stream",
          "name": "stdout",
          "text": [
            "Survived    0.0\n",
            "Pclass      0.0\n",
            "Sex         0.0\n",
            "Age         0.0\n",
            "SibSp       0.0\n",
            "Parch       0.0\n",
            "Fare        0.0\n",
            "Embarked    0.0\n",
            "dtype: float64\n"
          ]
        }
      ]
    },
    {
      "cell_type": "code",
      "source": [
        "sex_encode = pd.get_dummies(arquivo['Sex'])\n",
        "embarked_encode = pd.get_dummies(arquivo['Embarked'])\n",
        "arquivo.drop(['Sex', 'Embarked'], axis = 1, inplace = True)"
      ],
      "metadata": {
        "execution": {
          "iopub.status.busy": "2022-10-20T20:24:03.567104Z",
          "iopub.execute_input": "2022-10-20T20:24:03.568016Z",
          "iopub.status.idle": "2022-10-20T20:24:03.585556Z",
          "shell.execute_reply.started": "2022-10-20T20:24:03.567970Z",
          "shell.execute_reply": "2022-10-20T20:24:03.584780Z"
        },
        "trusted": true,
        "id": "cRl-P9K8f_L9"
      },
      "execution_count": 9,
      "outputs": []
    },
    {
      "cell_type": "code",
      "source": [
        "concatenado = pd.concat([arquivo, sex_encode, embarked_encode], axis = 1)"
      ],
      "metadata": {
        "execution": {
          "iopub.status.busy": "2022-10-20T20:24:03.587200Z",
          "iopub.execute_input": "2022-10-20T20:24:03.587697Z",
          "iopub.status.idle": "2022-10-20T20:24:03.597333Z",
          "shell.execute_reply.started": "2022-10-20T20:24:03.587609Z",
          "shell.execute_reply": "2022-10-20T20:24:03.596050Z"
        },
        "trusted": true,
        "id": "be7SQsAbf_MA"
      },
      "execution_count": 10,
      "outputs": []
    },
    {
      "cell_type": "code",
      "source": [
        "concatenado.head()"
      ],
      "metadata": {
        "execution": {
          "iopub.status.busy": "2022-10-20T20:24:03.598595Z",
          "iopub.execute_input": "2022-10-20T20:24:03.599218Z",
          "iopub.status.idle": "2022-10-20T20:24:03.621496Z",
          "shell.execute_reply.started": "2022-10-20T20:24:03.599171Z",
          "shell.execute_reply": "2022-10-20T20:24:03.620321Z"
        },
        "trusted": true,
        "colab": {
          "base_uri": "https://localhost:8080/",
          "height": 206
        },
        "id": "jZeRFBCwf_MC",
        "outputId": "dfca8b78-ab71-40a3-eec6-66c519c44d02"
      },
      "execution_count": 11,
      "outputs": [
        {
          "output_type": "execute_result",
          "data": {
            "text/plain": [
              "   Survived  Pclass   Age  SibSp  Parch     Fare  female  male  C  Q  S\n",
              "0         0       3  22.0      1      0   7.2500       0     1  0  0  1\n",
              "1         1       1  38.0      1      0  71.2833       1     0  1  0  0\n",
              "2         1       3  26.0      0      0   7.9250       1     0  0  0  1\n",
              "3         1       1  35.0      1      0  53.1000       1     0  0  0  1\n",
              "4         0       3  35.0      0      0   8.0500       0     1  0  0  1"
            ],
            "text/html": [
              "\n",
              "  <div id=\"df-75ca0739-adf9-49d0-9cce-d73382f45d10\">\n",
              "    <div class=\"colab-df-container\">\n",
              "      <div>\n",
              "<style scoped>\n",
              "    .dataframe tbody tr th:only-of-type {\n",
              "        vertical-align: middle;\n",
              "    }\n",
              "\n",
              "    .dataframe tbody tr th {\n",
              "        vertical-align: top;\n",
              "    }\n",
              "\n",
              "    .dataframe thead th {\n",
              "        text-align: right;\n",
              "    }\n",
              "</style>\n",
              "<table border=\"1\" class=\"dataframe\">\n",
              "  <thead>\n",
              "    <tr style=\"text-align: right;\">\n",
              "      <th></th>\n",
              "      <th>Survived</th>\n",
              "      <th>Pclass</th>\n",
              "      <th>Age</th>\n",
              "      <th>SibSp</th>\n",
              "      <th>Parch</th>\n",
              "      <th>Fare</th>\n",
              "      <th>female</th>\n",
              "      <th>male</th>\n",
              "      <th>C</th>\n",
              "      <th>Q</th>\n",
              "      <th>S</th>\n",
              "    </tr>\n",
              "  </thead>\n",
              "  <tbody>\n",
              "    <tr>\n",
              "      <th>0</th>\n",
              "      <td>0</td>\n",
              "      <td>3</td>\n",
              "      <td>22.0</td>\n",
              "      <td>1</td>\n",
              "      <td>0</td>\n",
              "      <td>7.2500</td>\n",
              "      <td>0</td>\n",
              "      <td>1</td>\n",
              "      <td>0</td>\n",
              "      <td>0</td>\n",
              "      <td>1</td>\n",
              "    </tr>\n",
              "    <tr>\n",
              "      <th>1</th>\n",
              "      <td>1</td>\n",
              "      <td>1</td>\n",
              "      <td>38.0</td>\n",
              "      <td>1</td>\n",
              "      <td>0</td>\n",
              "      <td>71.2833</td>\n",
              "      <td>1</td>\n",
              "      <td>0</td>\n",
              "      <td>1</td>\n",
              "      <td>0</td>\n",
              "      <td>0</td>\n",
              "    </tr>\n",
              "    <tr>\n",
              "      <th>2</th>\n",
              "      <td>1</td>\n",
              "      <td>3</td>\n",
              "      <td>26.0</td>\n",
              "      <td>0</td>\n",
              "      <td>0</td>\n",
              "      <td>7.9250</td>\n",
              "      <td>1</td>\n",
              "      <td>0</td>\n",
              "      <td>0</td>\n",
              "      <td>0</td>\n",
              "      <td>1</td>\n",
              "    </tr>\n",
              "    <tr>\n",
              "      <th>3</th>\n",
              "      <td>1</td>\n",
              "      <td>1</td>\n",
              "      <td>35.0</td>\n",
              "      <td>1</td>\n",
              "      <td>0</td>\n",
              "      <td>53.1000</td>\n",
              "      <td>1</td>\n",
              "      <td>0</td>\n",
              "      <td>0</td>\n",
              "      <td>0</td>\n",
              "      <td>1</td>\n",
              "    </tr>\n",
              "    <tr>\n",
              "      <th>4</th>\n",
              "      <td>0</td>\n",
              "      <td>3</td>\n",
              "      <td>35.0</td>\n",
              "      <td>0</td>\n",
              "      <td>0</td>\n",
              "      <td>8.0500</td>\n",
              "      <td>0</td>\n",
              "      <td>1</td>\n",
              "      <td>0</td>\n",
              "      <td>0</td>\n",
              "      <td>1</td>\n",
              "    </tr>\n",
              "  </tbody>\n",
              "</table>\n",
              "</div>\n",
              "      <button class=\"colab-df-convert\" onclick=\"convertToInteractive('df-75ca0739-adf9-49d0-9cce-d73382f45d10')\"\n",
              "              title=\"Convert this dataframe to an interactive table.\"\n",
              "              style=\"display:none;\">\n",
              "        \n",
              "  <svg xmlns=\"http://www.w3.org/2000/svg\" height=\"24px\"viewBox=\"0 0 24 24\"\n",
              "       width=\"24px\">\n",
              "    <path d=\"M0 0h24v24H0V0z\" fill=\"none\"/>\n",
              "    <path d=\"M18.56 5.44l.94 2.06.94-2.06 2.06-.94-2.06-.94-.94-2.06-.94 2.06-2.06.94zm-11 1L8.5 8.5l.94-2.06 2.06-.94-2.06-.94L8.5 2.5l-.94 2.06-2.06.94zm10 10l.94 2.06.94-2.06 2.06-.94-2.06-.94-.94-2.06-.94 2.06-2.06.94z\"/><path d=\"M17.41 7.96l-1.37-1.37c-.4-.4-.92-.59-1.43-.59-.52 0-1.04.2-1.43.59L10.3 9.45l-7.72 7.72c-.78.78-.78 2.05 0 2.83L4 21.41c.39.39.9.59 1.41.59.51 0 1.02-.2 1.41-.59l7.78-7.78 2.81-2.81c.8-.78.8-2.07 0-2.86zM5.41 20L4 18.59l7.72-7.72 1.47 1.35L5.41 20z\"/>\n",
              "  </svg>\n",
              "      </button>\n",
              "      \n",
              "  <style>\n",
              "    .colab-df-container {\n",
              "      display:flex;\n",
              "      flex-wrap:wrap;\n",
              "      gap: 12px;\n",
              "    }\n",
              "\n",
              "    .colab-df-convert {\n",
              "      background-color: #E8F0FE;\n",
              "      border: none;\n",
              "      border-radius: 50%;\n",
              "      cursor: pointer;\n",
              "      display: none;\n",
              "      fill: #1967D2;\n",
              "      height: 32px;\n",
              "      padding: 0 0 0 0;\n",
              "      width: 32px;\n",
              "    }\n",
              "\n",
              "    .colab-df-convert:hover {\n",
              "      background-color: #E2EBFA;\n",
              "      box-shadow: 0px 1px 2px rgba(60, 64, 67, 0.3), 0px 1px 3px 1px rgba(60, 64, 67, 0.15);\n",
              "      fill: #174EA6;\n",
              "    }\n",
              "\n",
              "    [theme=dark] .colab-df-convert {\n",
              "      background-color: #3B4455;\n",
              "      fill: #D2E3FC;\n",
              "    }\n",
              "\n",
              "    [theme=dark] .colab-df-convert:hover {\n",
              "      background-color: #434B5C;\n",
              "      box-shadow: 0px 1px 3px 1px rgba(0, 0, 0, 0.15);\n",
              "      filter: drop-shadow(0px 1px 2px rgba(0, 0, 0, 0.3));\n",
              "      fill: #FFFFFF;\n",
              "    }\n",
              "  </style>\n",
              "\n",
              "      <script>\n",
              "        const buttonEl =\n",
              "          document.querySelector('#df-75ca0739-adf9-49d0-9cce-d73382f45d10 button.colab-df-convert');\n",
              "        buttonEl.style.display =\n",
              "          google.colab.kernel.accessAllowed ? 'block' : 'none';\n",
              "\n",
              "        async function convertToInteractive(key) {\n",
              "          const element = document.querySelector('#df-75ca0739-adf9-49d0-9cce-d73382f45d10');\n",
              "          const dataTable =\n",
              "            await google.colab.kernel.invokeFunction('convertToInteractive',\n",
              "                                                     [key], {});\n",
              "          if (!dataTable) return;\n",
              "\n",
              "          const docLinkHtml = 'Like what you see? Visit the ' +\n",
              "            '<a target=\"_blank\" href=https://colab.research.google.com/notebooks/data_table.ipynb>data table notebook</a>'\n",
              "            + ' to learn more about interactive tables.';\n",
              "          element.innerHTML = '';\n",
              "          dataTable['output_type'] = 'display_data';\n",
              "          await google.colab.output.renderOutput(dataTable, element);\n",
              "          const docLink = document.createElement('div');\n",
              "          docLink.innerHTML = docLinkHtml;\n",
              "          element.appendChild(docLink);\n",
              "        }\n",
              "      </script>\n",
              "    </div>\n",
              "  </div>\n",
              "  "
            ]
          },
          "metadata": {},
          "execution_count": 11
        }
      ]
    },
    {
      "cell_type": "code",
      "source": [
        "x = concatenado.drop('Survived', axis = 1)\n",
        "y = concatenado['Survived']"
      ],
      "metadata": {
        "execution": {
          "iopub.status.busy": "2022-10-20T20:24:03.623197Z",
          "iopub.execute_input": "2022-10-20T20:24:03.623865Z",
          "iopub.status.idle": "2022-10-20T20:24:03.635163Z",
          "shell.execute_reply.started": "2022-10-20T20:24:03.623821Z",
          "shell.execute_reply": "2022-10-20T20:24:03.634387Z"
        },
        "trusted": true,
        "id": "7nmgZLLhf_MD"
      },
      "execution_count": 12,
      "outputs": []
    },
    {
      "cell_type": "code",
      "source": [
        "from sklearn.ensemble import GradientBoostingClassifier\n",
        "from sklearn.model_selection import StratifiedKFold\n",
        "from sklearn.model_selection import cross_val_score\n",
        "\n",
        "modelo = GradientBoostingClassifier()\n",
        "skfold = StratifiedKFold(n_splits = 5)\n",
        "resultado = cross_val_score(modelo,x,y,cv = skfold, n_jobs = -1)\n",
        "print(resultado.mean())"
      ],
      "metadata": {
        "execution": {
          "iopub.status.busy": "2022-10-20T20:24:03.637650Z",
          "iopub.execute_input": "2022-10-20T20:24:03.637915Z",
          "iopub.status.idle": "2022-10-20T20:24:07.881482Z",
          "shell.execute_reply.started": "2022-10-20T20:24:03.637888Z",
          "shell.execute_reply": "2022-10-20T20:24:07.880172Z"
        },
        "trusted": true,
        "colab": {
          "base_uri": "https://localhost:8080/"
        },
        "id": "sU-MxMNmf_MD",
        "outputId": "d9ec62bd-9429-4dab-d5dd-dc9d644d903c"
      },
      "execution_count": 13,
      "outputs": [
        {
          "output_type": "stream",
          "name": "stdout",
          "text": [
            "0.8226853304877284\n"
          ]
        }
      ]
    },
    {
      "cell_type": "code",
      "source": [
        "import numpy as np\n",
        "from sklearn.ensemble import GradientBoostingClassifier\n",
        "from sklearn.model_selection import GridSearchCV\n",
        "\n",
        "valores_grid = {'learning_rate': [0.1,0.09,0.08,0.07,0.06,0.05,0.04,0.03,0.02,0.01]}\n",
        "\n",
        "modelo1 = GradientBoostingClassifier(n_estimators = 300)\n",
        "\n",
        "gridGB = GridSearchCV(estimator = modelo1, param_grid = valores_grid, cv = 5, n_jobs = -1)\n",
        "gridGB.fit(x,y)\n",
        "\n",
        "print('Melhor learning rate: ', gridGB.best_estimator_.learning_rate)\n",
        "print('Acurácia: ', gridGB.best_score_)"
      ],
      "metadata": {
        "execution": {
          "iopub.status.busy": "2022-10-20T20:24:07.883867Z",
          "iopub.execute_input": "2022-10-20T20:24:07.884247Z",
          "iopub.status.idle": "2022-10-20T20:24:15.309772Z",
          "shell.execute_reply.started": "2022-10-20T20:24:07.884204Z",
          "shell.execute_reply": "2022-10-20T20:24:15.307192Z"
        },
        "trusted": true,
        "colab": {
          "base_uri": "https://localhost:8080/"
        },
        "id": "cDp19uguf_ME",
        "outputId": "74fd5817-cf33-4889-db76-41034d1a7697"
      },
      "execution_count": 14,
      "outputs": [
        {
          "output_type": "stream",
          "name": "stdout",
          "text": [
            "Melhor learning rate:  0.09\n",
            "Acurácia:  0.8350448810495262\n"
          ]
        }
      ]
    }
  ]
}